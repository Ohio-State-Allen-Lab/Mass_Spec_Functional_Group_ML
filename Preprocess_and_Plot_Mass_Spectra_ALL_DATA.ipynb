{
 "cells": [
  {
   "cell_type": "markdown",
   "metadata": {},
   "source": [
    "# Goal: Convert the 21,166 mass spectra and our list of CAS numbers with their respective functional groups into 2 files. One with all of the mass spectra and another showing all of the CAS numbers that we have data for and which functional groups those molecules have"
   ]
  },
  {
   "cell_type": "markdown",
   "metadata": {},
   "source": [
    "This process will be done in the same way that was shown in the Preprocess_and_Plot_Mass_Spectra_EXAMPLE notebook. There will be less of a walkthrough in this notebook but the process will be the same."
   ]
  },
  {
   "cell_type": "markdown",
   "metadata": {},
   "source": [
    "## Here are the necessary imports to run the code"
   ]
  },
  {
   "cell_type": "code",
   "execution_count": 1,
   "metadata": {},
   "outputs": [],
   "source": [
    "#IMPORTS \n",
    "import os\n",
    "import glob\n",
    "import csv\n",
    "import pandas as pd\n",
    "import numpy as np"
   ]
  },
  {
   "cell_type": "code",
   "execution_count": 2,
   "metadata": {},
   "outputs": [],
   "source": [
    "path = r'PATH'"
   ]
  },
  {
   "cell_type": "markdown",
   "metadata": {},
   "source": [
    "### First we can define the different functional groups we will be looking at this will allow us to make the code look at the different functional groups one at a time and will make the process faster to code"
   ]
  },
  {
   "cell_type": "code",
   "execution_count": 3,
   "metadata": {},
   "outputs": [],
   "source": [
    "top_dir = ['nitrile','ketone','ether','ester','carboxylic_acid','aromatic','amine','amide','alkyne','alkane','alkene','alcohol','nitro','alkyl_halide','acyl_halide','methyl','aldehyde','n_containing', 'o_containing', 'a_containing']"
   ]
  },
  {
   "cell_type": "markdown",
   "metadata": {},
   "source": [
    "### Then we will use glob to pull in all of the mass spectra from the folder on the computer"
   ]
  },
  {
   "cell_type": "markdown",
   "metadata": {},
   "source": [
    "This will also allow us to look at which CAS numbers don't have associated mass spectrometry data so that they can be removed from the CAS list."
   ]
  },
  {
   "cell_type": "code",
   "execution_count": 4,
   "metadata": {},
   "outputs": [],
   "source": [
    "#Define where the folder of csv data is located on the computer\n",
    "data_path = path + '\\\\'+'Full_Dataset'\n",
    "#The following lines will find all of the files of a given type (defined in extension) in the path's folder\n",
    "extension = 'csv'\n",
    "os.chdir(data_path)\n",
    "result = glob.glob('*.{}'.format(extension))\n",
    "#Here are the files that fit your criterion that are within the path file\n",
    "all_files = glob.glob(data_path + \"/*.csv\")"
   ]
  },
  {
   "cell_type": "markdown",
   "metadata": {},
   "source": [
    "Now we can read in our Target file. This tells us which functional groups are present in each of the different molecules via the CAS number. This file also currently tells us how many of those functional groups are present but we only need the presence or absense for now so we will go ahead and remove that extra information to avoid confusion."
   ]
  },
  {
   "cell_type": "code",
   "execution_count": 5,
   "metadata": {},
   "outputs": [
    {
     "data": {
      "text/html": [
       "<div>\n",
       "<style scoped>\n",
       "    .dataframe tbody tr th:only-of-type {\n",
       "        vertical-align: middle;\n",
       "    }\n",
       "\n",
       "    .dataframe tbody tr th {\n",
       "        vertical-align: top;\n",
       "    }\n",
       "\n",
       "    .dataframe thead th {\n",
       "        text-align: right;\n",
       "    }\n",
       "</style>\n",
       "<table border=\"1\" class=\"dataframe\">\n",
       "  <thead>\n",
       "    <tr style=\"text-align: right;\">\n",
       "      <th></th>\n",
       "      <th>cas</th>\n",
       "      <th>alkane</th>\n",
       "      <th>methyl</th>\n",
       "      <th>alkene</th>\n",
       "      <th>alkyne</th>\n",
       "      <th>alcohol</th>\n",
       "      <th>amine</th>\n",
       "      <th>nitrile</th>\n",
       "      <th>aromatic</th>\n",
       "      <th>alkyl_halide</th>\n",
       "      <th>...</th>\n",
       "      <th>ketone</th>\n",
       "      <th>aldehyde</th>\n",
       "      <th>carboxylic_acid</th>\n",
       "      <th>ether</th>\n",
       "      <th>acyl_halide</th>\n",
       "      <th>amide</th>\n",
       "      <th>nitro</th>\n",
       "      <th>n_containing</th>\n",
       "      <th>o_containing</th>\n",
       "      <th>a_containing</th>\n",
       "    </tr>\n",
       "  </thead>\n",
       "  <tbody>\n",
       "    <tr>\n",
       "      <th>0</th>\n",
       "      <td>100016</td>\n",
       "      <td>0</td>\n",
       "      <td>0</td>\n",
       "      <td>0</td>\n",
       "      <td>0</td>\n",
       "      <td>0</td>\n",
       "      <td>1</td>\n",
       "      <td>0</td>\n",
       "      <td>1</td>\n",
       "      <td>0</td>\n",
       "      <td>...</td>\n",
       "      <td>0</td>\n",
       "      <td>0</td>\n",
       "      <td>0</td>\n",
       "      <td>0</td>\n",
       "      <td>0</td>\n",
       "      <td>0</td>\n",
       "      <td>1</td>\n",
       "      <td>1</td>\n",
       "      <td>1</td>\n",
       "      <td>1</td>\n",
       "    </tr>\n",
       "    <tr>\n",
       "      <th>1</th>\n",
       "      <td>100027</td>\n",
       "      <td>0</td>\n",
       "      <td>0</td>\n",
       "      <td>0</td>\n",
       "      <td>0</td>\n",
       "      <td>1</td>\n",
       "      <td>0</td>\n",
       "      <td>0</td>\n",
       "      <td>1</td>\n",
       "      <td>0</td>\n",
       "      <td>...</td>\n",
       "      <td>0</td>\n",
       "      <td>0</td>\n",
       "      <td>0</td>\n",
       "      <td>0</td>\n",
       "      <td>0</td>\n",
       "      <td>0</td>\n",
       "      <td>1</td>\n",
       "      <td>1</td>\n",
       "      <td>1</td>\n",
       "      <td>1</td>\n",
       "    </tr>\n",
       "    <tr>\n",
       "      <th>2</th>\n",
       "      <td>1000493</td>\n",
       "      <td>1</td>\n",
       "      <td>1</td>\n",
       "      <td>0</td>\n",
       "      <td>0</td>\n",
       "      <td>0</td>\n",
       "      <td>0</td>\n",
       "      <td>0</td>\n",
       "      <td>0</td>\n",
       "      <td>0</td>\n",
       "      <td>...</td>\n",
       "      <td>0</td>\n",
       "      <td>0</td>\n",
       "      <td>0</td>\n",
       "      <td>0</td>\n",
       "      <td>0</td>\n",
       "      <td>0</td>\n",
       "      <td>0</td>\n",
       "      <td>0</td>\n",
       "      <td>0</td>\n",
       "      <td>0</td>\n",
       "    </tr>\n",
       "    <tr>\n",
       "      <th>3</th>\n",
       "      <td>100061</td>\n",
       "      <td>0</td>\n",
       "      <td>1</td>\n",
       "      <td>0</td>\n",
       "      <td>0</td>\n",
       "      <td>0</td>\n",
       "      <td>0</td>\n",
       "      <td>0</td>\n",
       "      <td>1</td>\n",
       "      <td>0</td>\n",
       "      <td>...</td>\n",
       "      <td>1</td>\n",
       "      <td>0</td>\n",
       "      <td>0</td>\n",
       "      <td>1</td>\n",
       "      <td>0</td>\n",
       "      <td>0</td>\n",
       "      <td>0</td>\n",
       "      <td>0</td>\n",
       "      <td>1</td>\n",
       "      <td>1</td>\n",
       "    </tr>\n",
       "    <tr>\n",
       "      <th>4</th>\n",
       "      <td>100072</td>\n",
       "      <td>0</td>\n",
       "      <td>1</td>\n",
       "      <td>0</td>\n",
       "      <td>0</td>\n",
       "      <td>0</td>\n",
       "      <td>0</td>\n",
       "      <td>0</td>\n",
       "      <td>1</td>\n",
       "      <td>1</td>\n",
       "      <td>...</td>\n",
       "      <td>0</td>\n",
       "      <td>0</td>\n",
       "      <td>0</td>\n",
       "      <td>1</td>\n",
       "      <td>1</td>\n",
       "      <td>0</td>\n",
       "      <td>0</td>\n",
       "      <td>0</td>\n",
       "      <td>1</td>\n",
       "      <td>1</td>\n",
       "    </tr>\n",
       "  </tbody>\n",
       "</table>\n",
       "<p>5 rows × 21 columns</p>\n",
       "</div>"
      ],
      "text/plain": [
       "       cas  alkane  methyl  alkene  alkyne  alcohol  amine  nitrile  aromatic  \\\n",
       "0   100016       0       0       0       0        0      1        0         1   \n",
       "1   100027       0       0       0       0        1      0        0         1   \n",
       "2  1000493       1       1       0       0        0      0        0         0   \n",
       "3   100061       0       1       0       0        0      0        0         1   \n",
       "4   100072       0       1       0       0        0      0        0         1   \n",
       "\n",
       "   alkyl_halide  ...  ketone  aldehyde  carboxylic_acid  ether  acyl_halide  \\\n",
       "0             0  ...       0         0                0      0            0   \n",
       "1             0  ...       0         0                0      0            0   \n",
       "2             0  ...       0         0                0      0            0   \n",
       "3             0  ...       1         0                0      1            0   \n",
       "4             1  ...       0         0                0      1            1   \n",
       "\n",
       "   amide  nitro  n_containing  o_containing  a_containing  \n",
       "0      0      1             1             1             1  \n",
       "1      0      1             1             1             1  \n",
       "2      0      0             0             0             0  \n",
       "3      0      0             0             1             1  \n",
       "4      0      0             0             1             1  \n",
       "\n",
       "[5 rows x 21 columns]"
      ]
     },
     "execution_count": 5,
     "metadata": {},
     "output_type": "execute_result"
    }
   ],
   "source": [
    "# read in target\n",
    "target = pd.read_csv(path +'\\\\'+\"target.csv\")\n",
    "#Change any positive integer to numbers to 1\n",
    "for f in top_dir:\n",
    "    target.loc[target[f] != 0, f] = 1 \n",
    "#Remove CAS that do not have associated mass spectrometry data\n",
    "for i in range(len(target)):\n",
    "    n = target.loc[i,\"cas\"]\n",
    "    source =path + '\\\\'+\"Full_Dataset\"\n",
    "    kind = \".csv\"\n",
    "    path_name =str(source)+str(\"\\\\\")+str(n)+kind\n",
    "    if not os.path.exists(str(path_name)):\n",
    "        #If the data file doesn't exist drop the row from the data frame so it is not called later while sorting training data\n",
    "        target = target.drop(i, axis=0)\n",
    "target= target.reset_index()\n",
    "target.drop('index', axis = 1, inplace = True)\n",
    "#take a peek and make sure it looks correct\n",
    "target.head()"
   ]
  },
  {
   "cell_type": "markdown",
   "metadata": {},
   "source": [
    "### Now we can export this DataFrame into a csv for our training"
   ]
  },
  {
   "cell_type": "code",
   "execution_count": 6,
   "metadata": {},
   "outputs": [],
   "source": [
    "target.to_csv(path + '\\\\'+ 'target_corrected.csv', index = False)"
   ]
  },
  {
   "cell_type": "code",
   "execution_count": 10,
   "metadata": {},
   "outputs": [],
   "source": [
    "all_spectra = pd.DataFrame()\n",
    "for i in range(len(target)):\n",
    "    #Pull the CAS number from the target file\n",
    "    f = target.loc[i,\"cas\"]\n",
    "    #Location of the mass spec data\n",
    "    data_path = path + '\\\\'+ 'Full_Dataset'\n",
    "    #Generate path to find that CAS number's data file\n",
    "    filename = str(f) + \".csv\"\n",
    "    path_i = data_path + \"\\\\\" + filename\n",
    "    #Confirm that the file exists\n",
    "    if os.path.exists(path_i) == True:\n",
    "        #pull data into a temporary dataframe\n",
    "        hold = pd.read_csv(path_i, header = 0, engine = 'python')\n",
    "        mass = hold.iloc[:,0].tolist()\n",
    "        y = hold.iloc[:,1].tolist()\n",
    "        \n",
    "        #normalize the mass spec intensity with respect to the most intense peak before continuing\n",
    "        y_max = max(y)\n",
    "        y_2 = [y/y_max for y in y]\n",
    "        \n",
    "        #Choose mass range of interest\n",
    "        counter=list(range(1,501))\n",
    "        #y_fill is what all of the unlisted values will be taken in as.\n",
    "        y_fill = 0\n",
    "        #The next for statement will add in lines for missing mass values\n",
    "        for i in counter:\n",
    "            if i not in mass:\n",
    "                mass.append(i)\n",
    "                y_2.append(y_fill)\n",
    "        \n",
    "        #Now we can put the data back together and sort with respect to the mass so they are in ascending mass order\n",
    "        spectrum = zip(mass, y_2)\n",
    "        spectrum = sorted(spectrum, key = lambda x: x[0])\n",
    "        #Convert to dataframe to combine with the total data dataframe\n",
    "        spectrum = pd.DataFrame(spectrum, columns=['mass', f])\n",
    "        all_spectra[f] = spectrum[f]\n",
    "#Add mass column to make the data file easier to interpet.\n",
    "counter=list(range(1,501))\n",
    "all_spectra.insert(0, 'mass', counter)"
   ]
  },
  {
   "cell_type": "markdown",
   "metadata": {},
   "source": [
    "### Now we can export this DataFrame into a csv so we can reduce the computational time by not resorting all of the csv files every time we run the notebook."
   ]
  },
  {
   "cell_type": "code",
   "execution_count": 11,
   "metadata": {},
   "outputs": [],
   "source": [
    "all_spectra.to_csv(path + '\\\\'+'full_dataset.csv', index = False)"
   ]
  },
  {
   "cell_type": "markdown",
   "metadata": {},
   "source": [
    "### Next we can pull in our experimental data to do the same process to that data as well!"
   ]
  },
  {
   "cell_type": "code",
   "execution_count": 12,
   "metadata": {},
   "outputs": [],
   "source": [
    "#Define where the folder of csv data is located on the computer\n",
    "exp_path = path + '\\\\' + 'experimental_data'\n",
    "#The following lines will find all of the files of a given type (defined in extension) in the path's folder\n",
    "extension = 'csv'\n",
    "os.chdir(exp_path)\n",
    "result = glob.glob('*.{}'.format(extension))\n",
    "#Here are the files that fit your criterion that are within the path file\n",
    "experimental_files = glob.glob(exp_path + \"/*.csv\")"
   ]
  },
  {
   "cell_type": "code",
   "execution_count": 13,
   "metadata": {},
   "outputs": [
    {
     "data": {
      "text/plain": [
       "['C:\\\\Users\\\\Nicole\\\\OneDrive - The Ohio State University\\\\Desktop\\\\Current Work\\\\Papers\\\\MS ML Paper Rewrite\\\\Code\\\\experimental_data\\\\2Furanmethanol.CSV',\n",
       " 'C:\\\\Users\\\\Nicole\\\\OneDrive - The Ohio State University\\\\Desktop\\\\Current Work\\\\Papers\\\\MS ML Paper Rewrite\\\\Code\\\\experimental_data\\\\Limonene.CSV',\n",
       " 'C:\\\\Users\\\\Nicole\\\\OneDrive - The Ohio State University\\\\Desktop\\\\Current Work\\\\Papers\\\\MS ML Paper Rewrite\\\\Code\\\\experimental_data\\\\Pyridine.CSV']"
      ]
     },
     "execution_count": 13,
     "metadata": {},
     "output_type": "execute_result"
    }
   ],
   "source": [
    "experimental_files"
   ]
  },
  {
   "cell_type": "code",
   "execution_count": 15,
   "metadata": {},
   "outputs": [
    {
     "data": {
      "text/html": [
       "<div>\n",
       "<style scoped>\n",
       "    .dataframe tbody tr th:only-of-type {\n",
       "        vertical-align: middle;\n",
       "    }\n",
       "\n",
       "    .dataframe tbody tr th {\n",
       "        vertical-align: top;\n",
       "    }\n",
       "\n",
       "    .dataframe thead th {\n",
       "        text-align: right;\n",
       "    }\n",
       "</style>\n",
       "<table border=\"1\" class=\"dataframe\">\n",
       "  <thead>\n",
       "    <tr style=\"text-align: right;\">\n",
       "      <th></th>\n",
       "      <th>2Furanmethanol</th>\n",
       "      <th>Limonene</th>\n",
       "      <th>Pyridine</th>\n",
       "    </tr>\n",
       "    <tr>\n",
       "      <th>mass</th>\n",
       "      <th></th>\n",
       "      <th></th>\n",
       "      <th></th>\n",
       "    </tr>\n",
       "  </thead>\n",
       "  <tbody>\n",
       "    <tr>\n",
       "      <th>1</th>\n",
       "      <td>0.0</td>\n",
       "      <td>0.0</td>\n",
       "      <td>0.0</td>\n",
       "    </tr>\n",
       "    <tr>\n",
       "      <th>2</th>\n",
       "      <td>0.0</td>\n",
       "      <td>0.0</td>\n",
       "      <td>0.0</td>\n",
       "    </tr>\n",
       "    <tr>\n",
       "      <th>3</th>\n",
       "      <td>0.0</td>\n",
       "      <td>0.0</td>\n",
       "      <td>0.0</td>\n",
       "    </tr>\n",
       "    <tr>\n",
       "      <th>4</th>\n",
       "      <td>0.0</td>\n",
       "      <td>0.0</td>\n",
       "      <td>0.0</td>\n",
       "    </tr>\n",
       "    <tr>\n",
       "      <th>5</th>\n",
       "      <td>0.0</td>\n",
       "      <td>0.0</td>\n",
       "      <td>0.0</td>\n",
       "    </tr>\n",
       "    <tr>\n",
       "      <th>...</th>\n",
       "      <td>...</td>\n",
       "      <td>...</td>\n",
       "      <td>...</td>\n",
       "    </tr>\n",
       "    <tr>\n",
       "      <th>396</th>\n",
       "      <td>0.0</td>\n",
       "      <td>0.0</td>\n",
       "      <td>0.0</td>\n",
       "    </tr>\n",
       "    <tr>\n",
       "      <th>397</th>\n",
       "      <td>0.0</td>\n",
       "      <td>0.0</td>\n",
       "      <td>0.0</td>\n",
       "    </tr>\n",
       "    <tr>\n",
       "      <th>398</th>\n",
       "      <td>0.0</td>\n",
       "      <td>0.0</td>\n",
       "      <td>0.0</td>\n",
       "    </tr>\n",
       "    <tr>\n",
       "      <th>399</th>\n",
       "      <td>0.0</td>\n",
       "      <td>0.0</td>\n",
       "      <td>0.0</td>\n",
       "    </tr>\n",
       "    <tr>\n",
       "      <th>400</th>\n",
       "      <td>0.0</td>\n",
       "      <td>0.0</td>\n",
       "      <td>0.0</td>\n",
       "    </tr>\n",
       "  </tbody>\n",
       "</table>\n",
       "<p>400 rows × 3 columns</p>\n",
       "</div>"
      ],
      "text/plain": [
       "      2Furanmethanol  Limonene  Pyridine\n",
       "mass                                    \n",
       "1                0.0       0.0       0.0\n",
       "2                0.0       0.0       0.0\n",
       "3                0.0       0.0       0.0\n",
       "4                0.0       0.0       0.0\n",
       "5                0.0       0.0       0.0\n",
       "...              ...       ...       ...\n",
       "396              0.0       0.0       0.0\n",
       "397              0.0       0.0       0.0\n",
       "398              0.0       0.0       0.0\n",
       "399              0.0       0.0       0.0\n",
       "400              0.0       0.0       0.0\n",
       "\n",
       "[400 rows x 3 columns]"
      ]
     },
     "execution_count": 15,
     "metadata": {},
     "output_type": "execute_result"
    }
   ],
   "source": [
    "experimental_spectra = pd.DataFrame()\n",
    "for i in experimental_files:\n",
    "    name = i.replace(path + '\\\\'+ 'experimental_data' + '\\\\', '')\n",
    "    name = name.replace('.CSV','')\n",
    "    #pull data into a temporary dataframe\n",
    "    hold = pd.read_csv(i, header = 0, engine = 'python')\n",
    "    mass = hold.iloc[:,0].tolist()\n",
    "    y = hold.iloc[:,1].tolist()\n",
    "    #normalize the mass spec intensity with respect to the most intense peak before continuing\n",
    "    y_max = max(y)\n",
    "    y_2 = [y/y_max for y in y]\n",
    "        \n",
    "    #Choose mass range of interest\n",
    "    counter=list(range(1,401))\n",
    "    #y_fill is what all of the unlisted values will be taken in as.\n",
    "    y_fill = 0\n",
    "    #The next for statement will add in lines for missing mass values\n",
    "    for i in counter:\n",
    "        if i not in mass:\n",
    "            mass.append(i)\n",
    "            y_2.append(y_fill)\n",
    "    #Now we can put the data back together and sort with respect to the mass so they are in ascending mass order\n",
    "    spectrum = zip(mass, y_2)\n",
    "    spectrum = sorted(spectrum, key = lambda x: x[0])\n",
    "    #Convert to dataframe to combine with the total data dataframe\n",
    "    spectrum = pd.DataFrame(spectrum, columns=['mass', name])\n",
    "    experimental_spectra[name] = spectrum[name]\n",
    "#Add mass column to make the data file easier to interpet.\n",
    "experimental_spectra.insert(0, 'mass', counter)\n",
    "experimental_spectra.set_index('mass')"
   ]
  },
  {
   "cell_type": "code",
   "execution_count": 16,
   "metadata": {},
   "outputs": [],
   "source": [
    "experimental_spectra.to_csv(path + '\\\\' + 'experimental_spectra.csv')"
   ]
  }
 ],
 "metadata": {
  "kernelspec": {
   "display_name": "Python 3",
   "language": "python",
   "name": "python3"
  },
  "language_info": {
   "codemirror_mode": {
    "name": "ipython",
    "version": 3
   },
   "file_extension": ".py",
   "mimetype": "text/x-python",
   "name": "python",
   "nbconvert_exporter": "python",
   "pygments_lexer": "ipython3",
   "version": "3.8.8"
  }
 },
 "nbformat": 4,
 "nbformat_minor": 4
}
